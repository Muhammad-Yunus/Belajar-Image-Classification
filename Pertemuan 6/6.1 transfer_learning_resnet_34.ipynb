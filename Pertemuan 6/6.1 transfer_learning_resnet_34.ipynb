{
 "cells": [
  {
   "cell_type": "markdown",
   "metadata": {},
   "source": [
    "## 6.1 Transfer Learning ResNet-34 using Custom Dataset\n",
    "- Prepare custom image classification dataset in Roboflow \n",
    "- Run Transfer Learning ResNet-34\n",
    "- Evaluate Model performance"
   ]
  },
  {
   "cell_type": "markdown",
   "metadata": {},
   "source": [
    "#### 6.1.1 Prepare Custom Image Classification Dataset in Roboflow\n",
    "\n",
    "- Download and extract <font color=\"orange\">Apple2Orange.zip</font> image dataset from https://efrosgans.eecs.berkeley.edu/cyclegan/datasets/apple2orange.zip\n",
    "- Login to your Roboflow Account https://app.roboflow.com/\n",
    "- Click <font color=\"orange\">\"New Project\" button</font>,<br>\n",
    "<img src=\"resource/rb0.png\" width=\"300px\"><br>\n",
    "- Input project name <font color=\"orange\">\"Fruit Classification\"</font> with annotation group <font color=\"orange\">\"fruits\"</font> and project type <font color=\"orange\">\"Classification\"</font>, then click <font color=\"orange\">\"Create Public Project\"</font>, <br>\n",
    "<img src=\"resource/rb1.png\" width=\"900px\"><br>\n",
    "- Upload all image on extracted <font color=\"orange\">\"apple2orange/\"</font> folder to Roboflow by click <font color=\"orange\">\"Select Folder\"</font> button,<br>\n",
    "<img src=\"resource/rb2.png\" width=\"400px\"><br>\n",
    "- Wait untill all images uploaded, then it should look like below,\n"
   ]
  }
 ],
 "metadata": {
  "language_info": {
   "name": "python"
  }
 },
 "nbformat": 4,
 "nbformat_minor": 2
}

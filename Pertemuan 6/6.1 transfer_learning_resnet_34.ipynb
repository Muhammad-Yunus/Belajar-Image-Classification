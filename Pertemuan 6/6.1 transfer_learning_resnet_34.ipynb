{
 "cells": [
  {
   "cell_type": "markdown",
   "metadata": {},
   "source": [
    "## 6.1 Transfer Learning ResNet-34 using Custom Dataset\n",
    "- Prepare custom image classification dataset in Roboflow \n",
    "- Run Transfer Learning ResNet-34\n",
    "- Evaluate Model performance"
   ]
  },
  {
   "cell_type": "markdown",
   "metadata": {},
   "source": [
    "⚠️⚠️⚠️ *Please open this notebook in Google Colab* by click below link ⚠️⚠️⚠️<br><br>\n",
    "<a href=\"https://colab.research.google.com/github/Muhammad-Yunus/Belajar-Image-Classification/blob/main/Pertemuan%206/6.1%20transfer_learning_resnet_34.ipynb\" target=\"_blank\"><img src=\"https://colab.research.google.com/assets/colab-badge.svg\" alt=\"Open In Colab\"/></a><br><br><br>\n",
    "- Click `Connect` button in top right Google Colab notebook,<br>\n",
    "<img src=\"resource/cl-connect-gpu.png\" width=\"250px\">\n",
    "- If connecting process completed, it will turn to something look like this<br>\n",
    "<img src=\"resource/cl-connect-gpu-success.png\" width=\"250px\">"
   ]
  },
  {
   "cell_type": "markdown",
   "metadata": {},
   "source": [
    "- Check GPU connected into Colab environment is active"
   ]
  },
  {
   "cell_type": "code",
   "execution_count": null,
   "metadata": {},
   "outputs": [],
   "source": [
    "!nvidia-smi"
   ]
  },
  {
   "cell_type": "markdown",
   "metadata": {},
   "source": [
    "#### 6.1.1 Prepare Custom Image Classification Dataset in Roboflow\n",
    "\n",
    "- Download and extract <font color=\"orange\">Apple2Orange.zip</font> image dataset from https://efrosgans.eecs.berkeley.edu/cyclegan/datasets/apple2orange.zip\n",
    "- Login to your Roboflow Account https://app.roboflow.com/\n",
    "- Click <font color=\"orange\">\"New Project\" button</font>,<br>\n",
    "<img src=\"resource/rb0.png\" width=\"300px\"><br>\n",
    "- Input project name <font color=\"orange\">\"Fruit Classification\"</font> with annotation group <font color=\"orange\">\"fruits\"</font> and project type <font color=\"orange\">\"Classification\"</font>, then click <font color=\"orange\">\"Create Public Project\"</font>, <br>\n",
    "<img src=\"resource/rb1.png\" width=\"900px\"><br>\n",
    "- Upload all image on extracted <font color=\"orange\">\"apple2orange/\"</font> folder to Roboflow by click <font color=\"orange\">\"Select Folder\"</font> button,<br>\n",
    "<img src=\"resource/rb2.png\" width=\"400px\"><br>\n",
    "- Wait untill all images uploaded, <br>\n",
    "<img src=\"resource/rb3.png\" width=\"900px\"><br>\n",
    "- Then it should look like below, now click <font color=\"orange\">\"Save and Continue\"</font> button,<br>\n",
    "<img src=\"resource/rb4.png\" width=\"900px\"><br>\n",
    "- Choose <font color=\"orange\">\"Split Images Between Train/Valid/Test\"</font> with thefolowing portion, then click <font color=\"orange\">\"Continue\"</font><br>\n",
    "<img src=\"resource/rb5.png\" width=\"400px\"><br>\n",
    "- Wait until uploading progress completed, <br>\n",
    "<img src=\"resource/rb6.png\" width=\"900px\"><br>\n",
    "- After completed, it will automatically navigating you to the <font color=\"orange\">\"Generate\"</font> menu on the left side,\n",
    "- We will choose <font color=\"orange\">Preprocessing - Resize</font> operation to resize image dataset into <font color=\"orange\">224x224</font>,<br>\n",
    "<img src=\"resource/rb7.png\" width=\"500px\"><br>\n",
    "- Now it should look like this, then click <font color=\"orange\">\"Apply\"</font>,<br>\n",
    "<img src=\"resource/rb8.png\" width=\"500px\"><br>\n",
    "- You can add augmentation if needed, but for now, we just skip it by click <font color=\"orange\">\"Continue\"</font>,\n",
    "- On last section <font color=\"orange\">\"Create\"</font> just click <font color=\"orange\">\"Create\"</font>,<br>\n",
    "<img src=\"resource/rb9.png\" width=\"500px\"><br>\n",
    "- After that, navigate to menu <font color=\"orange\">\"Version\"</font> to download dataset script, <br>\n",
    "<img src=\"resource/rb10.png\" width=\"900px\"><br>\n",
    "- Click <font color=\"orange\">\"Download Dataset\"</font>, then choose format <font color=\"orange\">\"Folder Structure\"</font>, after download script created copy that code, <br>\n",
    "<img src=\"resource/rb11.png\" width=\"400px\"><br>\n",
    "- Paste the code bellow to download the dataset,"
   ]
  },
  {
   "cell_type": "code",
   "execution_count": null,
   "metadata": {},
   "outputs": [],
   "source": [
    "# !pip install roboflow\n",
    "\n",
    "# from roboflow import Roboflow\n",
    "# rf = Roboflow(api_key=\"XXXXXXXXXXXXXXXXXXXXXXXXXXXXXXX\")\n",
    "# project = rf.workspace(\"XXXXXXXXXXXXXXX\").project(\"XXXXXXXXXXXXXXXXXXXXXXXX\")\n",
    "# version = project.version(XXXX)\n",
    "# dataset = version.download(\"folder\")"
   ]
  },
  {
   "cell_type": "code",
   "execution_count": null,
   "metadata": {},
   "outputs": [],
   "source": [
    "dataset.location"
   ]
  },
  {
   "cell_type": "markdown",
   "metadata": {},
   "source": [
    "<br><br><br><br><br>\n",
    "#### 6.1.2 Transfer Learning ResNet-34"
   ]
  },
  {
   "cell_type": "code",
   "execution_count": null,
   "metadata": {},
   "outputs": [],
   "source": [
    "import os\n",
    "import cv2\n",
    "import torch\n",
    "from torch.utils.data import Dataset\n",
    "from torchvision import transforms\n",
    "import numpy as np\n"
   ]
  },
  {
   "cell_type": "code",
   "execution_count": null,
   "metadata": {},
   "outputs": [],
   "source": [
    "class CustomDataset(Dataset):\n",
    "    def __init__(self, images_dir, labels_dir, num_classes):\n",
    "        self.images_dir = images_dir\n",
    "        self.labels_dir = labels_dir\n",
    "        self.num_classes = num_classes\n",
    "        self.image_files = [f for f in os.listdir(images_dir) if f.endswith('.png')]\n",
    "        \n",
    "    def __len__(self):\n",
    "        # Return the total number of image files\n",
    "        return len(self.image_files)\n",
    "    \n",
    "    def __getitem__(self, idx):\n",
    "        # Load image using OpenCV\n",
    "        img_path = os.path.join(self.images_dir, self.image_files[idx])\n",
    "        image = cv2.imread(img_path)  # OpenCV loads images in BGR format\n",
    "        image = cv2.cvtColor(image, cv2.COLOR_BGR2RGB)  # Convert to RGB\n",
    "        \n",
    "        # Convert to tensor and normalize to 0-1\n",
    "        image = torch.tensor(image.transpose(2, 0, 1), dtype=torch.float32) / 255.0\n",
    "        \n",
    "        # Load label\n",
    "        label_file = self.image_files[idx].replace('.png', '.txt')\n",
    "        label_path = os.path.join(self.labels_dir, label_file)\n",
    "        with open(label_path, 'r') as f:\n",
    "            label = int(f.read().strip())\n",
    "        \n",
    "        # One-hot encode the label\n",
    "        label_one_hot = np.zeros(self.num_classes, dtype=np.float32)\n",
    "        label_one_hot[label] = 1.0\n",
    "        \n",
    "        # Convert label to PyTorch tensor\n",
    "        label_tensor = torch.tensor(label_one_hot)\n",
    "        \n",
    "        return image, label_tensor"
   ]
  },
  {
   "cell_type": "code",
   "execution_count": null,
   "metadata": {},
   "outputs": [],
   "source": [
    "# Directories where images and labels are stored\n",
    "num_classes = 2  # Orange and Apple\n",
    "\n",
    "# Create an instance of CustomDataset\n",
    "train_set = CustomDataset(images_dir, labels_dir, num_classes, transform=transform)\n",
    "train_set = CustomDataset(images_dir, labels_dir, num_classes, transform=transform)\n",
    "train_set = CustomDataset(images_dir, labels_dir, num_classes, transform=transform)\n",
    "\n",
    "# Create a DataLoader to iterate over the dataset\n",
    "dataloader = torch.utils.data.DataLoader(dataset, batch_size=32, shuffle=True)\n",
    "\n",
    "# Iterate over the data\n",
    "for images, labels in dataloader:\n",
    "    print(images.shape)  # (batch_size, 3, 224, 224)\n",
    "    print(labels.shape)  # (batch_size, num_classes)\n"
   ]
  }
 ],
 "metadata": {
  "language_info": {
   "name": "python"
  }
 },
 "nbformat": 4,
 "nbformat_minor": 2
}

{
 "cells": [
  {
   "cell_type": "markdown",
   "metadata": {},
   "source": [
    "#### 6.1.1 Prepare Custom Image Classification Dataset in Roboflow\n",
    "\n",
    "- Download and extract <font color=\"orange\">Apple2Orange.zip</font> image dataset from https://efrosgans.eecs.berkeley.edu/cyclegan/datasets/apple2orange.zip\n",
    "- Login to your Roboflow Account https://app.roboflow.com/\n",
    "- Click <font color=\"orange\">\"New Project\" button</font>,<br>\n",
    "<img src=\"resource/rb0.png\" width=\"300px\"><br>\n",
    "- Input project name <font color=\"orange\">\"Fruit Classification\"</font> with annotation group <font color=\"orange\">\"fruits\"</font> and project type <font color=\"orange\">\"Classification\"</font>, then click <font color=\"orange\">\"Create Public Project\"</font>, <br>\n",
    "<img src=\"resource/rb1.png\" width=\"900px\"><br>\n",
    "- Upload all image on extracted <font color=\"orange\">\"apple2orange/\"</font> folder to Roboflow by click <font color=\"orange\">\"Select Folder\"</font> button,<br>\n",
    "<img src=\"resource/rb2.png\" width=\"400px\"><br>\n",
    "- Wait untill all images uploaded, <br>\n",
    "<img src=\"resource/rb3.png\" width=\"900px\"><br>\n",
    "- Then it should look like below, now click <font color=\"orange\">\"Save and Continue\"</font> button,<br>\n",
    "<img src=\"resource/rb4.png\" width=\"900px\"><br>\n",
    "- Choose <font color=\"orange\">\"Split Images Between Train/Valid/Test\"</font> with thefolowing portion, then click <font color=\"orange\">\"Continue\"</font><br>\n",
    "<img src=\"resource/rb5.png\" width=\"400px\"><br>\n",
    "- Wait until uploading progress completed, <br>\n",
    "<img src=\"resource/rb6.png\" width=\"900px\"><br>\n",
    "- After completed, it will automatically navigating you to the <font color=\"orange\">\"Generate\"</font> menu on the left side,\n",
    "- We will choose <font color=\"orange\">Preprocessing - Resize</font> operation to resize image dataset into <font color=\"orange\">224x224</font>,<br>\n",
    "<img src=\"resource/rb7.png\" width=\"500px\"><br>\n",
    "- Now it should look like this, then click <font color=\"orange\">\"Apply\"</font>,<br>\n",
    "<img src=\"resource/rb8.png\" width=\"500px\"><br>\n",
    "- You can add augmentation if needed, but for now, we just skip it by click <font color=\"orange\">\"Continue\"</font>,\n",
    "- On last section <font color=\"orange\">\"Create\"</font> just click <font color=\"orange\">\"Create\"</font>,<br>\n",
    "<img src=\"resource/rb9.png\" width=\"500px\"><br>\n",
    "- After that, navigate to menu <font color=\"orange\">\"Version\"</font> to download dataset script, <br>\n",
    "<img src=\"resource/rb10.png\" width=\"900px\"><br>\n",
    "- Click <font color=\"orange\">\"Download Dataset\"</font>, then choose format <font color=\"orange\">\"Folder Structure\"</font>, after download script created copy that code, <br>\n",
    "<img src=\"resource/rb11.png\" width=\"400px\"><br>\n",
    "- Paste the code bellow to download the dataset,"
   ]
  },
  {
   "cell_type": "code",
   "execution_count": null,
   "metadata": {},
   "outputs": [],
   "source": [
    "# !pip install roboflow\n",
    "\n",
    "# from roboflow import Roboflow\n",
    "# rf = Roboflow(api_key=\"XXXXXXXXXXXXXXXXXXXXXXXXXXXXXXX\")\n",
    "# project = rf.workspace(\"XXXXXXXXXXXXXXX\").project(\"XXXXXXXXXXXXXXXXXXXXXXXX\")\n",
    "# version = project.version(XXXX)\n",
    "# dataset = version.download(\"folder\")"
   ]
  },
  {
   "cell_type": "code",
   "execution_count": null,
   "metadata": {},
   "outputs": [],
   "source": [
    "dataset.location"
   ]
  }
 ],
 "metadata": {
  "language_info": {
   "name": "python"
  }
 },
 "nbformat": 4,
 "nbformat_minor": 2
}

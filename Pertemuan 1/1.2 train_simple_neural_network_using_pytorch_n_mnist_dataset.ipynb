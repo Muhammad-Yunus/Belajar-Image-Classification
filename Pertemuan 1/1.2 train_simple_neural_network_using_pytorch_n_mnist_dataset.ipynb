{
  "cells": [
    {
      "cell_type": "markdown",
      "metadata": {
        "id": "Bi4X2zZY8Ce4"
      },
      "source": [
        "## 1.2 Train Simple Neural Network using Pytorch on MNIST Dataset\n",
        "- About MNIST Dataset\n",
        "- Load and Split Dataset Split\n",
        "- Label Encoding\n",
        "- Create Simple Neural Network Model\n",
        "- Run Training Model\n",
        "- Visualize Training Loss vs Trining Accuracy"
      ]
    },
    {
      "cell_type": "code",
      "execution_count": null,
      "metadata": {
        "id": "1-f2NUvO8Ce8",
        "outputId": "8dff811c-819d-4cbb-8b88-e72e18ce4f27",
        "colab": {
          "base_uri": "https://localhost:8080/"
        }
      },
      "outputs": [
        {
          "output_type": "stream",
          "name": "stdout",
          "text": [
            "torch : 2.4.1+cu121\n",
            "torch vision : 0.19.1+cu121\n"
          ]
        }
      ],
      "source": [
        "!pip install gdown\n",
        "\n",
        "import os\n",
        "import cv2\n",
        "import gdown\n",
        "import torch\n",
        "import torch.nn as nn\n",
        "import torch.nn.functional as F\n",
        "from torch.utils.data import Dataset, DataLoader, random_split\n",
        "\n",
        "import torchvision\n",
        "from torchvision import transforms\n",
        "\n",
        "from IPython import display\n",
        "\n",
        "# clear output cell\n",
        "display.clear_output()\n",
        "\n",
        "print(f\"torch : {torch.__version__}\")\n",
        "print(f\"torch vision : {torchvision.__version__}\")"
      ]
    },
    {
      "cell_type": "markdown",
      "metadata": {
        "id": "W9maz4608Ce7"
      },
      "source": [
        "### 1.2.1 About MNIST Dataset\n",
        "- We will use the **MNIST dataset**, a collection of **60,000** labeled handwritten digits dataset in 10 classes.<br>\n",
        "- Handwritten digits in the MNIST dataset are <i><font color='orange'>28x28 pixel</font></i> grayscale images.\n",
        "- The neural network we will build <i><font color='orange'>classifies the handwritten digits</font></i> in their **10 classes** (0, .., 9).\n",
        "<img src=\"https://github.com/Muhammad-Yunus/Belajar-Image-Classification/blob/main/Pertemuan%201/resource/MNIST.png?raw=1\" width=\"700px\">"
      ]
    },
    {
      "cell_type": "markdown",
      "source": [
        "- We will use sample dataset [mnist_dataset.zip](https://drive.google.com/file/d/1-FfwJrllyHofQwIbMb_IxAkxnfMGSFmR/view) from GDrive.\n",
        "- If you want to use **your own dataset**, just upload dataset to GDrive and share as **public link** in **ZIP** format.<br>\n",
        "<img src=\"https://github.com/Muhammad-Yunus/Belajar-Image-Classification/blob/main/Pertemuan%201/resource/gd-share.png?raw=1\" width=\"400px\">\n",
        "- Open the shared link in browser, and copy the `GDrive ID` in browser address bar.<br>\n",
        "<img src=\"https://github.com/Muhammad-Yunus/Belajar-Image-Classification/blob/main/Pertemuan%201/resource/gd-id.png?raw=1\" width=\"600px\"><br><br>\n",
        "- Paste the GDrive ID as value `gdrive_id` variable below,"
      ],
      "metadata": {
        "id": "Qjr9QhBkACF0"
      }
    },
    {
      "cell_type": "code",
      "source": [
        "DATASET_NAME = 'MNIST' # the dataset name\n",
        "DATASET_NUM_CLASS = 10 # number of class in dataset"
      ],
      "metadata": {
        "id": "qspKjTTTa2vi"
      },
      "execution_count": null,
      "outputs": []
    },
    {
      "cell_type": "code",
      "source": [
        "# default using gdrive_id Dataset `mnist_dataset.zip` (1-FfwJrllyHofQwIbMb_IxAkxnfMGSFmR)\n",
        "gdrive_id = '1-FfwJrllyHofQwIbMb_IxAkxnfMGSFmR' # <-----  ⚠️⚠️⚠️ USE YOUR OWN GDrive ID FOR CUSTOM DATASET ⚠️⚠️⚠️\n",
        "\n",
        "# download zip from GDrive\n",
        "url = f'https://drive.google.com/uc?id={gdrive_id}'\n",
        "gdown.download(url, DATASET_NAME + \".zip\", quiet=False)\n",
        "\n",
        "# unzip dataset\n",
        "!unzip {DATASET_NAME}.zip -d {DATASET_NAME}\n",
        "\n",
        "# clear output cell\n",
        "display.clear_output()"
      ],
      "metadata": {
        "id": "5jWkC5br_NTr"
      },
      "execution_count": null,
      "outputs": []
    },
    {
      "cell_type": "markdown",
      "metadata": {
        "id": "lfepnY_u8Ce-"
      },
      "source": [
        "### 1.2.2 Load & Split Dataset\n",
        "- Load each image on MNIST dataset using OpenCV\n",
        "- <i><font color='orange'>Convert to gray</font></i>, to make sure we only have single channel of 28x28 pixel data on each image\n",
        "- The simplest approach for classifying them is to use the <i><font color='orange'>28x28=784 pixels</font></i> as inputs for a 1-layer neural network.\n",
        "- That why we will convert the <i><font color='orange'>2D matrix of 28x28 pixel</font></i> into flatten <i><font color='orange'>1D array 784 pixel</font></i>.<br>\n",
        "<img src=\"https://github.com/Muhammad-Yunus/Belajar-Image-Classification/blob/main/Pertemuan%201/resource/MNIST_Load.png?raw=1\" width=\"600px\">"
      ]
    },
    {
      "cell_type": "code",
      "execution_count": null,
      "metadata": {
        "id": "r133gdrr8Ce9"
      },
      "outputs": [],
      "source": [
        "# Define Custom Dataset class\n",
        "# it's just helper to load image dataset using OpenCV and convert to pytorch tensor\n",
        "# also doing a label encoding using one-hot encoding\n",
        "class CustomDataset(Dataset):\n",
        "    def __init__(self, root_dir):\n",
        "        self.root_dir = root_dir\n",
        "        self.transform = transforms.Compose([transforms.ToTensor()]) # initialize converter input image to pytorch tensor\n",
        "        self.image_files = sorted([file for file in os.listdir(root_dir) if file.lower().endswith('.png')])\n",
        "\n",
        "    def __len__(self):\n",
        "        return len(self.image_files)\n",
        "\n",
        "    def __getitem__(self, idx):\n",
        "        # Read image from corresponding .png file\n",
        "        image_path = os.path.join(self.root_dir, self.image_files[idx])\n",
        "        image = cv2.imread(image_path)  # Load image using OpenCV\n",
        "        image = cv2.cvtColor(image, cv2.COLOR_BGR2GRAY)  # Convert BGR to GRAY\n",
        "        if self.transform:\n",
        "            image = self.transform(image) # apply convert input image to pytorch tensor\n",
        "\n",
        "        # Read label from corresponding .txt file\n",
        "        label_path = os.path.splitext(image_path)[0] + \".txt\"\n",
        "        with open(label_path, 'r') as label_file:\n",
        "            label = int(label_file.read().strip())  # Assuming labels are integers\n",
        "\n",
        "        # Flatten Image in 2D Tensor (28x28) into a 1D tensor (784)\n",
        "        image = torch.flatten(image)\n",
        "\n",
        "        # Apply one-hot encoding into label\n",
        "        labels_tensor = torch.tensor(label)\n",
        "        one_hot_encoded = F.one_hot(labels_tensor, num_classes=DATASET_NUM_CLASS).to(torch.float32)\n",
        "        return image, one_hot_encoded\n",
        "\n",
        "\n",
        "\n",
        "# instantiate dataset\n",
        "# in here the image dataset is not loaded yet\n",
        "# we only read all image files names in fataset folder\n",
        "all_train_dataset = CustomDataset(root_dir=f'{DATASET_NAME}/dataset/train')\n",
        "test_dataset = CustomDataset(root_dir=f'{DATASET_NAME}/dataset/test')"
      ]
    },
    {
      "cell_type": "markdown",
      "metadata": {
        "id": "rpGCH1Yg8Ce-"
      },
      "source": [
        "- Neural Network learned through a training process which requires a <i><font color='orange'>\"training dataset\"</font></i>.\n",
        "- We <i><font color='cyan'>need another dataset, never seen during training</font></i>, to evaluate the \"real-world\" performance of the network. It is called an <i><font color='orange'>\"validation dataset\"</font></i>.\n",
        "- Here we split the 60.000 labeled images MNIST dataset into <i><font color='orange'>60.000 data</font></i> for <i><font color='orange'>\"training dataset\"</font></i> and <i><font color='orange'>10.000 data</font></i> for <i><font color='orange'>\"validation dataset\"</font></i> <br>\n",
        "<img src=\"https://github.com/Muhammad-Yunus/Belajar-Image-Classification/blob/main/Pertemuan%201/resource/MNIST_split.png?raw=1\" width=\"600px\">"
      ]
    },
    {
      "cell_type": "code",
      "source": [
        "print(f\"All Train Dataset : {len(all_train_dataset)} data\")\n",
        "print(f\"Test Dataset : {len(test_dataset)} data\")"
      ],
      "metadata": {
        "id": "tFsP6GFgOQHI",
        "outputId": "c70b8bbc-1ecf-472a-ad3f-32629bb743e7",
        "colab": {
          "base_uri": "https://localhost:8080/"
        }
      },
      "execution_count": null,
      "outputs": [
        {
          "output_type": "stream",
          "name": "stdout",
          "text": [
            "All Train Dataset : 60000 data\n",
            "Test Dataset : 10000 data\n"
          ]
        }
      ]
    },
    {
      "cell_type": "code",
      "execution_count": null,
      "metadata": {
        "id": "69kUMi0I8Ce_",
        "outputId": "9b3b28c1-fcc7-4bf4-8720-22cc2f6e7b00",
        "colab": {
          "base_uri": "https://localhost:8080/"
        }
      },
      "outputs": [
        {
          "output_type": "stream",
          "name": "stdout",
          "text": [
            "Train Dataset : 50000 data\n",
            "Validation Dataset : 10000 data\n"
          ]
        }
      ],
      "source": [
        "# Split 'all_train_dataset' into 'train' and 'validation' set using `random_split()` function\n",
        "train_dataset, validation_dataset = random_split(all_train_dataset, [50000, 10000])\n",
        "\n",
        "print(f\"Train Dataset : {len(train_dataset)} data\")\n",
        "print(f\"Validation Dataset : {len(validation_dataset)} data\")"
      ]
    },
    {
      "cell_type": "markdown",
      "source": [
        "- As you can see above, we here split the MNIST dataset into 3 part, <i><font color='orange'>training set</font></i>, <i><font color='orange'>validation set</font></i> and <i><font color='orange'>test set</font></i>.\n",
        "<img src=\"https://github.com/Muhammad-Yunus/Belajar-Image-Classification/blob/main/Pertemuan%201/resource/dataset_proportion.jpeg?raw=1\" width=\"600px\"><br>\n",
        "- <i><font color='orange'>Training set</font></i> : is used in training phase, with size : 50.000 labeled MNIST digit\n",
        "- <i><font color='orange'>Validation set</font></i> : is used for validationg model during training, for example Cross Validation, with size : 10.000 labeled MNIST digit\n",
        "- <i><font color='orange'>Test set</font></i> : is used in testing phase (after training model finish), with size : 10.000 labeled MNIST digit"
      ],
      "metadata": {
        "id": "HKQefX0GHnXO"
      }
    },
    {
      "cell_type": "markdown",
      "source": [
        "- `train_dataset`, `validation_dataset` and `test_dataset` is instantiated object, doesn't really load the dataset image files.\n",
        "- to load the image files, we use pytorch `DataLoader()` load dataset into a small chunk in a `batch_size`\n",
        "- `batch_size` is the number of samples used in `one forward` and `backward pass` through the network.\n",
        "- this helping us to avoid loading the entire dataset into RAM at once\n",
        "- imagine if we have very large dataset and might not fit in available RAM that we have"
      ],
      "metadata": {
        "id": "E1Rrd903Vxye"
      }
    },
    {
      "cell_type": "code",
      "source": [
        "# Create data loaders\n",
        "BATCH_SIZE = 64\n",
        "\n",
        "train_loader = DataLoader(train_dataset, batch_size=BATCH_SIZE, shuffle=True)\n",
        "validation_loader = DataLoader(validation_dataset, batch_size=BATCH_SIZE, shuffle=True)\n",
        "test_loader = DataLoader(test_dataset, batch_size=BATCH_SIZE, shuffle=False)"
      ],
      "metadata": {
        "id": "YNk0jHVRNvZH"
      },
      "execution_count": null,
      "outputs": []
    },
    {
      "cell_type": "markdown",
      "metadata": {
        "id": "_OmBe7IT8Ce_"
      },
      "source": [
        "### 1.2.3 Label Encoding\n",
        "- Label Encoding help model to map label as <i><font color='orange'>numerical representation</font></i> with ordering.\n",
        "- Model might learn some <i><font color='orange'>natural ordering between the different class labels</font></i> based on the labels.\n",
        "- Assigning them <i><font color='orange'>numbers in a scale</font></i> would implicitly create ordering and relations between different classes.\n",
        "- For this purpose, we will use <i><font color='orange'>One-hot Encoding</font></i> to encode label of MNIST dataset into look like this,<br>\n",
        "<img src=\"https://github.com/Muhammad-Yunus/Belajar-Image-Classification/blob/main/Pertemuan%201/resource/MNIS_OneHot.png?raw=1\" width=\"600px\">"
      ]
    },
    {
      "cell_type": "code",
      "source": [
        "# implementation is already applied in CustomDataset() class above\n",
        "# here we try to explain how it's work\n",
        "\n",
        "# for example we have label = 2 and label = 6\n",
        "label = 2\n",
        "\n",
        "# convert ot tensor\n",
        "tensor_label = torch.tensor(label)\n",
        "\n",
        "# apply one-hot encoding for number of class = 10\n",
        "encoded_label = F.one_hot(tensor_label, num_classes=10)\n",
        "\n",
        "print(f\"Label : {label}\")\n",
        "print(f\"Encoded Label : {encoded_label}\")"
      ],
      "metadata": {
        "colab": {
          "base_uri": "https://localhost:8080/"
        },
        "id": "Ocl7k70CUqxo",
        "outputId": "57625d36-ad3a-4a23-acb1-0510701555d5"
      },
      "execution_count": null,
      "outputs": [
        {
          "output_type": "stream",
          "name": "stdout",
          "text": [
            "Label : 2\n",
            "Encoded Label : tensor([0, 0, 1, 0, 0, 0, 0, 0, 0, 0])\n"
          ]
        }
      ]
    },
    {
      "cell_type": "markdown",
      "metadata": {
        "id": "FscNckVt8Ce_"
      },
      "source": [
        "### 1.2.4 Create Simple Neural Network Model\n",
        "- We will creating a simple Neural Network model, with only Input and Output Layer\n",
        "- The <i><font color='cyan'>Input Layer</font></i> will have <i><font color='orange'>784</font></i> neuron (*same size with flattened 28x28=784 pixels on each MNIST dataset*)\n",
        "- The <i><font color='cyan'>Output Layer</font></i> will have <i><font color='orange'>10 neuron</font></i> (*same size with a number of dataset class*)<br>\n",
        "<img src=\"https://github.com/Muhammad-Yunus/Belajar-Image-Classification/blob/main/Pertemuan%201/resource/NN_SingleDense.png?raw=1\" width=\"600px\">\n"
      ]
    },
    {
      "cell_type": "code",
      "execution_count": null,
      "metadata": {
        "id": "hicSPw8z8CfA"
      },
      "outputs": [],
      "source": [
        "device = torch.device('cuda' if torch.cuda.is_available() else 'cpu')\n",
        "\n",
        "# Define a simple model\n",
        "model = nn.Sequential(\n",
        "    nn.Linear(in_features=784, out_features=10),  # 10 classes (digits 0-9)\n",
        "    nn.LogSoftmax(dim=1)  # Log probabilities for classification\n",
        ").to(device)\n"
      ]
    },
    {
      "cell_type": "markdown",
      "metadata": {
        "id": "dCnEGWyq8Ce_"
      },
      "source": [
        "- Each \"neuron\" in a neural network does a <i><font color='cyan'>weighted sum of all of its inputs</font></i>, adds a constant called the <i><font color='cyan'>\"bias\"</font></i>.\n",
        "<img src=\"https://github.com/Muhammad-Yunus/Belajar-Image-Classification/blob/main/Pertemuan%201/resource/NN_03.png?raw=1\" width=\"300px\"><br><br>\n",
        "- On above network will have <i><font color='cyan'>784x10 weight</font></i>.<br>\n",
        "<img src=\"https://github.com/Muhammad-Yunus/Belajar-Image-Classification/blob/main/Pertemuan%201/resource/NN_WeightedSum.gif?raw=1\" width=\"600px\"><br><br>\n",
        "- Then feeds the result through some non-linear <i><font color='cyan'>\"activation function\"</font></i>. <br>\n",
        "- We will use <i><font color='cyan'>Softmax</font></i> for that purpose.<br>\n",
        "<img src=\"https://github.com/Muhammad-Yunus/Belajar-Image-Classification/blob/main/Pertemuan%201/resource/NN_08.png?raw=1\" height=\"175px\"><img src=\"https://github.com/Muhammad-Yunus/Belajar-Image-Classification/blob/main/Pertemuan%201/resource/NN_07.gif?raw=1\" height=\"175px\"><br><br>"
      ]
    },
    {
      "cell_type": "markdown",
      "metadata": {
        "id": "pPweHauU8CfA"
      },
      "source": [
        "- Then to <i><font color='cyan'>measure how good</font></i> the trained model, we will measure distance between what the <i><font color='cyan'>network tells us</font></i> and the <i><font color='cyan'>correct answers</font></i>.\n",
        "- For classification problems we will use <i><font color='cyan'>\"cross-entropy distance\"</font></i> (a.k.a loss function).\n",
        "<img src=\"https://github.com/Muhammad-Yunus/Belajar-Image-Classification/blob/main/Pertemuan%201/resource/NN_LOSS.png?raw=1\" width=\"600px\"><br><br>\n",
        "- <i><font color='cyan'>\"Training\"</font></i> model actually means using training images and labels to <i><font color='cyan'>adjust weights</font></i> and <i><font color='cyan'>biases</font></i> so as to <i><font color='cyan'>minimise</font></i> the <i><font color='cyan'>cross-entropy</font></i> loss function.\n",
        "- That process is called <i><font color='cyan'>Optimizer</font></i>. We will talk more about this in <i><font color='cyan'>Pertemuan 2</font></i>, but keep in mind we will use <i><font color='orange'>SGD Optimizer</font></i> for now.<br><br>\n",
        "- We are also able to add metric to measure like model accuracy, precission, recall, or etc.\n",
        "- For now we just use <i><font color='orange'>accuracy metric</font></i>."
      ]
    },
    {
      "cell_type": "code",
      "execution_count": null,
      "metadata": {
        "id": "G5o0oYMe8CfA"
      },
      "outputs": [],
      "source": [
        "# setup optimizer, loss function & metric\n",
        "optimizer = torch.optim.Adam(model.parameters(), lr=0.001)\n",
        "loss_function = nn.CrossEntropyLoss()"
      ]
    },
    {
      "cell_type": "markdown",
      "metadata": {
        "id": "AXBnRlCu8CfA"
      },
      "source": [
        "### 1.2.5 Run Training Model\n",
        "- To run training process, we can use the following code"
      ]
    },
    {
      "cell_type": "code",
      "source": [
        "!pip install tqdm\n",
        "\n",
        "from tqdm import tqdm"
      ],
      "metadata": {
        "colab": {
          "base_uri": "https://localhost:8080/"
        },
        "id": "E7yScjD221w7",
        "outputId": "a978db8e-9d04-43d1-ca44-897fdc9a576f"
      },
      "execution_count": null,
      "outputs": [
        {
          "output_type": "stream",
          "name": "stdout",
          "text": [
            "Requirement already satisfied: tqdm in /usr/local/lib/python3.10/dist-packages (4.66.5)\n"
          ]
        }
      ]
    },
    {
      "cell_type": "code",
      "source": [
        "def train(model, train_loader, optimizer, loss_function):\n",
        "    model.train()\n",
        "    running_loss = 0.0\n",
        "    correct_predictions = 0\n",
        "    total_predictions = 0\n",
        "\n",
        "    # Add progress bar for training loop\n",
        "    progress_bar = tqdm(train_loader, desc='Training', leave=False)\n",
        "\n",
        "    for inputs, labels in progress_bar:\n",
        "        # resets the gradients of all the model's parameters before the backward pass\n",
        "        optimizer.zero_grad()\n",
        "        # pass input tensor to model\n",
        "        outputs = model(inputs)\n",
        "        # calc loss value\n",
        "        loss = loss_function(outputs, labels)\n",
        "        # computes the gradient of the loss with respect to each parameter in model\n",
        "        loss.backward()\n",
        "        # adjust model parameter\n",
        "        optimizer.step()\n",
        "        # sum loss value\n",
        "        running_loss += loss.item()\n",
        "\n",
        "        # Calculate correct & total prediction\n",
        "        _, predicted = torch.max(outputs, 1)\n",
        "        correct_predictions += (predicted == labels.argmax(1)).sum().item()\n",
        "        total_predictions += labels.size(0)\n",
        "\n",
        "        # Update progress bar description with current loss\n",
        "        progress_bar.set_postfix(loss=loss.item())\n",
        "\n",
        "    # Calculate average training loss\n",
        "    average_train_loss = running_loss / len(train_loader.dataset)\n",
        "    # Calculate training accuracy\n",
        "    train_accuracy = correct_predictions / total_predictions\n",
        "    return average_train_loss, train_accuracy\n",
        "\n",
        "def validate(model, val_loader, loss_function):\n",
        "    model.eval()\n",
        "    running_loss = 0.0\n",
        "    correct_predictions = 0\n",
        "    total_predictions = 0\n",
        "\n",
        "    # Add progress bar for validation loop\n",
        "    progress_bar = tqdm(val_loader, desc='Validating', leave=False)\n",
        "\n",
        "    with torch.no_grad():\n",
        "        for inputs, labels in progress_bar:\n",
        "            # pass input tensor to model\n",
        "            outputs = model(inputs)\n",
        "            # calc loss value\n",
        "            loss = loss_function(outputs, labels)\n",
        "            # sum loss value\n",
        "            running_loss += loss.item()\n",
        "\n",
        "            # Calculate correct & total prediction\n",
        "            _, predicted = torch.max(outputs, 1)\n",
        "            correct_predictions += (predicted == labels.argmax(1)).sum().item()\n",
        "            total_predictions += labels.size(0)\n",
        "\n",
        "            # Update progress bar description with loss\n",
        "            progress_bar.set_postfix(loss=loss.item())\n",
        "\n",
        "    # Calculate average validation loss\n",
        "    average_val_loss = running_loss / len(val_loader.dataset)\n",
        "    # Calculate validation accuracy\n",
        "    val_accuracy = correct_predictions / total_predictions\n",
        "    return average_val_loss, val_accuracy\n",
        "\n",
        "\n",
        "\n",
        "\n",
        "\n",
        "# This is a training loop for selected Epoch\n",
        "# each epoch will process all training and validation set, chunked into small batch size data\n",
        "# then measure the loss & accuracy of training and validation set\n",
        "NUM_EPOCH = 10      # you can change this value\n",
        "\n",
        "train_losses = []\n",
        "val_losses = []\n",
        "train_accuracies = []\n",
        "val_accuracies = []\n",
        "\n",
        "for epoch in range(NUM_EPOCH):\n",
        "    print(f\"Epoch {epoch+1}/{NUM_EPOCH}\")\n",
        "\n",
        "    train_loss, train_accuracy = train(model, train_loader, optimizer, loss_function)\n",
        "    val_loss, val_accuracy = validate(model, validation_loader, loss_function)\n",
        "\n",
        "    train_losses.append(train_loss)\n",
        "    val_losses.append(val_loss)\n",
        "    train_accuracies.append(train_accuracy * 100)  # convert to percentage\n",
        "    val_accuracies.append(val_accuracy * 100)  # convert to percentage\n",
        "\n",
        "    print(f\"Train Loss = {train_loss:.4f}, Val Loss = {val_loss:.4f}, Train Accuracy = {train_accuracy:.4f}, Val Accuracy = {val_accuracy:.4f}\\n\")"
      ],
      "metadata": {
        "colab": {
          "base_uri": "https://localhost:8080/"
        },
        "id": "7YUpbTMs2UPC",
        "outputId": "81fb6bbd-3dec-4c78-c958-bb73fa28f741"
      },
      "execution_count": null,
      "outputs": [
        {
          "output_type": "stream",
          "name": "stdout",
          "text": [
            "Epoch 1/10\n"
          ]
        },
        {
          "output_type": "stream",
          "name": "stderr",
          "text": []
        },
        {
          "output_type": "stream",
          "name": "stdout",
          "text": [
            "Train Loss = 0.0042, Val Loss = 0.0046, Train Accuracy = 0.9250, Val Accuracy = 0.9147\n",
            "\n",
            "\n",
            "Epoch 2/10\n"
          ]
        },
        {
          "output_type": "stream",
          "name": "stderr",
          "text": []
        },
        {
          "output_type": "stream",
          "name": "stdout",
          "text": [
            "Train Loss = 0.0042, Val Loss = 0.0046, Train Accuracy = 0.9249, Val Accuracy = 0.9161\n",
            "\n",
            "\n",
            "Epoch 3/10\n"
          ]
        },
        {
          "output_type": "stream",
          "name": "stderr",
          "text": []
        },
        {
          "output_type": "stream",
          "name": "stdout",
          "text": [
            "Train Loss = 0.0041, Val Loss = 0.0046, Train Accuracy = 0.9253, Val Accuracy = 0.9157\n",
            "\n",
            "\n",
            "Epoch 4/10\n"
          ]
        },
        {
          "output_type": "stream",
          "name": "stderr",
          "text": []
        },
        {
          "output_type": "stream",
          "name": "stdout",
          "text": [
            "Train Loss = 0.0041, Val Loss = 0.0046, Train Accuracy = 0.9254, Val Accuracy = 0.9167\n",
            "\n",
            "\n",
            "Epoch 5/10\n"
          ]
        },
        {
          "output_type": "stream",
          "name": "stderr",
          "text": []
        },
        {
          "output_type": "stream",
          "name": "stdout",
          "text": [
            "Train Loss = 0.0041, Val Loss = 0.0046, Train Accuracy = 0.9265, Val Accuracy = 0.9174\n",
            "\n",
            "\n",
            "Epoch 6/10\n"
          ]
        },
        {
          "output_type": "stream",
          "name": "stderr",
          "text": []
        },
        {
          "output_type": "stream",
          "name": "stdout",
          "text": [
            "Train Loss = 0.0041, Val Loss = 0.0046, Train Accuracy = 0.9268, Val Accuracy = 0.9156\n",
            "\n",
            "\n",
            "Epoch 7/10\n"
          ]
        },
        {
          "output_type": "stream",
          "name": "stderr",
          "text": []
        },
        {
          "output_type": "stream",
          "name": "stdout",
          "text": [
            "Train Loss = 0.0040, Val Loss = 0.0045, Train Accuracy = 0.9272, Val Accuracy = 0.9182\n",
            "\n",
            "\n",
            "Epoch 8/10\n"
          ]
        },
        {
          "output_type": "stream",
          "name": "stderr",
          "text": []
        },
        {
          "output_type": "stream",
          "name": "stdout",
          "text": [
            "Train Loss = 0.0040, Val Loss = 0.0046, Train Accuracy = 0.9272, Val Accuracy = 0.9150\n",
            "\n",
            "\n",
            "Epoch 9/10\n"
          ]
        },
        {
          "output_type": "stream",
          "name": "stderr",
          "text": []
        },
        {
          "output_type": "stream",
          "name": "stdout",
          "text": [
            "Train Loss = 0.0040, Val Loss = 0.0046, Train Accuracy = 0.9279, Val Accuracy = 0.9156\n",
            "\n",
            "\n",
            "Epoch 10/10\n"
          ]
        },
        {
          "output_type": "stream",
          "name": "stderr",
          "text": [
            "                                                                         "
          ]
        },
        {
          "output_type": "stream",
          "name": "stdout",
          "text": [
            "Train Loss = 0.0040, Val Loss = 0.0046, Train Accuracy = 0.9277, Val Accuracy = 0.9132\n",
            "\n",
            "\n"
          ]
        },
        {
          "output_type": "stream",
          "name": "stderr",
          "text": [
            "\r"
          ]
        }
      ]
    },
    {
      "cell_type": "markdown",
      "source": [
        "- <i><font color='orange'>Increase</font></i> number of <i><font color='orange'>batch size</font></i> impacting to <i><font color='orange'>number of iteration</font></i> need to process all training set.\n",
        "- <i><font color='orange'>Bigger Batch Size</font></i> is <i><font color='orange'>faster in Training Time</font></i>, but require <i><font color='orange'>more Compute & Memory</font></i> more data loaded in single batch.\n",
        "- Other advantages is adding <i><font color='orange'>model generalization</font></i>, making model more accurate for unseen dataset.<br>\n",
        "<img src=\"https://github.com/Muhammad-Yunus/Belajar-Image-Classification/blob/main/Pertemuan%201/resource/BatchVsEpoch.png?raw=1\" width=\"700px\"><br>\n"
      ],
      "metadata": {
        "id": "QV7kR-OyBNlH"
      }
    },
    {
      "cell_type": "markdown",
      "metadata": {
        "id": "KK5WG0IV8CfA"
      },
      "source": [
        "### 1.2.6 Visualize Loss vs Accuracy\n",
        "- We are also able to visualize Loss vs Accuracy using the following code,\n",
        "- <i><font color='orange'>Loss will decrease</font></i> as the <i><font color='orange'>epoch increases</font></i>, whereas <i><font color='orange'>accuracy will increase</font></i>."
      ]
    },
    {
      "cell_type": "code",
      "execution_count": null,
      "metadata": {
        "id": "ELQJlXHF8CfA",
        "outputId": "dc70beae-9e08-459b-8dae-c355fc0c94d7",
        "colab": {
          "base_uri": "https://localhost:8080/",
          "height": 507
        }
      },
      "outputs": [
        {
          "output_type": "display_data",
          "data": {
            "text/plain": [
              "<Figure size 1200x500 with 2 Axes>"
            ],
            "image/png": "[encoded data removed]"
          },
          "metadata": {}
        }
      ],
      "source": [
        "# visualize Loss & Accuracy\n",
        "import matplotlib.pyplot as plt\n",
        "\n",
        "epochs = list(range(1, NUM_EPOCH + 1))\n",
        "\n",
        "# Plotting loss\n",
        "plt.figure(figsize=(12, 5))\n",
        "\n",
        "plt.subplot(1, 2, 1)\n",
        "plt.plot(epochs, train_losses, 'b', label='Training Loss')\n",
        "plt.plot(epochs, val_losses, 'r', label='Validation Loss')\n",
        "plt.title('Training and Validation Loss')\n",
        "plt.xlabel('Epochs')\n",
        "plt.ylabel('Loss')\n",
        "plt.legend()\n",
        "plt.grid(True)\n",
        "\n",
        "# Plotting accuracy\n",
        "plt.subplot(1, 2, 2)\n",
        "plt.plot(epochs, train_accuracies, 'b', label='Training Accuracy')\n",
        "plt.plot(epochs, val_accuracies, 'r', label='Validation Accuracy')\n",
        "plt.title('Training and Validation Accuracy')\n",
        "plt.xlabel('Epochs')\n",
        "plt.ylabel('Accuracy (%)')\n",
        "plt.legend()\n",
        "plt.grid(True)\n",
        "\n",
        "plt.tight_layout()\n"
      ]
    },
    {
      "cell_type": "markdown",
      "source": [
        "### 1.2.7 Evaluate Model\n",
        "\n",
        "- After we are finish with training model,\n",
        "- we will now trying to `measure the performance of model` using `test set`\n",
        "- We will use the `classification_report()` and `confusion_matrix()` from `sklearn` to visualize the prediction result over the `test set`"
      ],
      "metadata": {
        "id": "4i9KyXNLF86l"
      }
    },
    {
      "cell_type": "code",
      "source": [
        "from sklearn.metrics import confusion_matrix\n",
        "from sklearn.metrics import classification_report\n",
        "import matplotlib.pyplot as plt\n",
        "import seaborn as sns\n",
        "import numpy as np\n",
        "\n",
        "# define evaluate function for test set\n",
        "def evaluate(model, test_loader):\n",
        "    model.eval()\n",
        "    all_labels = []\n",
        "    all_preds = []\n",
        "\n",
        "    # Add progress bar for validation loop\n",
        "    progress_bar = tqdm(test_loader, desc='Evaluating', leave=False)\n",
        "\n",
        "    with torch.no_grad():\n",
        "        # iterate over all batched test set\n",
        "        for inputs, labels in progress_bar:\n",
        "            # pass input tensor to model\n",
        "            outputs = model(inputs)\n",
        "            # get prediction\n",
        "            _, preds = torch.max(outputs, 1)\n",
        "            # collect all labels & preds\n",
        "            all_labels.extend(labels.cpu().numpy())\n",
        "            all_preds.extend(preds.cpu().numpy())\n",
        "\n",
        "    return all_labels, all_preds\n",
        "\n",
        "# Evaluation on test set\n",
        "all_labels, all_preds = evaluate(model, test_loader)\n",
        "all_labels = np.argmax(all_labels, axis=1)\n",
        "\n",
        "# Calculate classification report\n",
        "labels = [str(i) for i in range(DATASET_NUM_CLASS)]\n",
        "print(classification_report(all_labels, all_preds, target_names=labels))\n",
        "\n",
        "# Confusion Matrix\n",
        "conf_matrix = confusion_matrix(all_labels, all_preds)\n",
        "\n",
        "# Plotting the confusion matrix\n",
        "plt.figure(figsize=(10, 7))\n",
        "sns.heatmap(conf_matrix, annot=True, fmt=\"d\", cmap=\"Blues\")\n",
        "plt.xlabel('Predicted Class')\n",
        "plt.ylabel('Acctual Class')\n",
        "plt.title('Confusion Matrix')\n",
        "plt.show()"
      ],
      "metadata": {
        "colab": {
          "base_uri": "https://localhost:8080/",
          "height": 936
        },
        "id": "KiBuNX_2C8pN",
        "outputId": "6e43d3f2-2624-4d34-95a8-00a8344b18a7"
      },
      "execution_count": 29,
      "outputs": [
        {
          "output_type": "stream",
          "name": "stderr",
          "text": []
        },
        {
          "output_type": "stream",
          "name": "stdout",
          "text": [
            "              precision    recall  f1-score   support\n",
            "\n",
            "           0       0.94      0.98      0.96       980\n",
            "           1       0.96      0.98      0.97      1135\n",
            "           2       0.93      0.90      0.91      1032\n",
            "           3       0.88      0.93      0.90      1010\n",
            "           4       0.91      0.92      0.92       982\n",
            "           5       0.90      0.86      0.88       892\n",
            "           6       0.95      0.94      0.95       958\n",
            "           7       0.92      0.93      0.93      1028\n",
            "           8       0.89      0.85      0.87       974\n",
            "           9       0.91      0.90      0.90      1009\n",
            "\n",
            "    accuracy                           0.92     10000\n",
            "   macro avg       0.92      0.92      0.92     10000\n",
            "weighted avg       0.92      0.92      0.92     10000\n",
            "\n"
          ]
        },
        {
          "output_type": "display_data",
          "data": {
            "text/plain": [
              "<Figure size 1000x700 with 2 Axes>"
            ],
            "image/png": "[encoded data removed]"
          },
          "metadata": {}
        }
      ]
    },
    {
      "cell_type": "markdown",
      "source": [
        "### 1.2.7 Save Trained Model"
      ],
      "metadata": {
        "id": "EcTjX39dGhaC"
      }
    },
    {
      "cell_type": "code",
      "source": [
        "# Save the model\n",
        "torch.save(model.state_dict(), 'trained_model.pt')\n",
        "\n",
        "# Download the model file\n",
        "from google.colab import files\n",
        "files.download('trained_model.pt')"
      ],
      "metadata": {
        "colab": {
          "base_uri": "https://localhost:8080/",
          "height": 17
        },
        "id": "C19EciMOG_pJ",
        "outputId": "d20cded5-9b7f-4aa6-d26a-2e767f9a5038"
      },
      "execution_count": 25,
      "outputs": [
        {
          "output_type": "display_data",
          "data": {
            "text/plain": [
              "<IPython.core.display.Javascript object>"
            ],
            "application/javascript": [
              "\n",
              "    async function download(id, filename, size) {\n",
              "      if (!google.colab.kernel.accessAllowed) {\n",
              "        return;\n",
              "      }\n",
              "      const div = document.createElement('div');\n",
              "      const label = document.createElement('label');\n",
              "      label.textContent = `Downloading \"${filename}\": `;\n",
              "      div.appendChild(label);\n",
              "      const progress = document.createElement('progress');\n",
              "      progress.max = size;\n",
              "      div.appendChild(progress);\n",
              "      document.body.appendChild(div);\n",
              "\n",
              "      const buffers = [];\n",
              "      let downloaded = 0;\n",
              "\n",
              "      const channel = await google.colab.kernel.comms.open(id);\n",
              "      // Send a message to notify the kernel that we're ready.\n",
              "      channel.send({})\n",
              "\n",
              "      for await (const message of channel.messages) {\n",
              "        // Send a message to notify the kernel that we're ready.\n",
              "        channel.send({})\n",
              "        if (message.buffers) {\n",
              "          for (const buffer of message.buffers) {\n",
              "            buffers.push(buffer);\n",
              "            downloaded += buffer.byteLength;\n",
              "            progress.value = downloaded;\n",
              "          }\n",
              "        }\n",
              "      }\n",
              "      const blob = new Blob(buffers, {type: 'application/binary'});\n",
              "      const a = document.createElement('a');\n",
              "      a.href = window.URL.createObjectURL(blob);\n",
              "      a.download = filename;\n",
              "      div.appendChild(a);\n",
              "      a.click();\n",
              "      div.remove();\n",
              "    }\n",
              "  "
            ]
          },
          "metadata": {}
        },
        {
          "output_type": "display_data",
          "data": {
            "text/plain": [
              "<IPython.core.display.Javascript object>"
            ],
            "application/javascript": [
              "download(\"download_23732675-c79c-42a9-9e3e-c5412cda659c\", \"trained_model.pt\", 32956)"
            ]
          },
          "metadata": {}
        }
      ]
    },
    {
      "cell_type": "markdown",
      "metadata": {
        "id": "MpZAbapn8CfA"
      },
      "source": [
        "<br><br><br><br><br>\n",
        "# Source\n",
        "- https://codelabs.developers.google.com/codelabs/cloud-tensorflow-mnist#2"
      ]
    }
  ],
  "metadata": {
    "kernelspec": {
      "display_name": "Python 3",
      "language": "python",
      "name": "python3"
    },
    "language_info": {
      "codemirror_mode": {
        "name": "ipython",
        "version": 3
      },
      "file_extension": ".py",
      "mimetype": "text/x-python",
      "name": "python",
      "nbconvert_exporter": "python",
      "pygments_lexer": "ipython3",
      "version": "3.8.19"
    },
    "colab": {
      "provenance": []
    }
  },
  "nbformat": 4,
  "nbformat_minor": 0
}
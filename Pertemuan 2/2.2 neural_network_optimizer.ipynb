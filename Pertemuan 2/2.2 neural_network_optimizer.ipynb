{
 "cells": [
  {
   "cell_type": "markdown",
   "metadata": {},
   "source": [
    "## 2.2 Neural Network Optimizer\n",
    "- Intro to Neural Network Optimizer (SGD, Adam, Adadelta)\n",
    "- Experiment with Neural Network - Change Optimizer \n",
    "- Experiment with Neural Network - Learning Rate Decay"
   ]
  },
  {
   "cell_type": "code",
   "execution_count": null,
   "metadata": {},
   "outputs": [],
   "source": []
  }
 ],
 "metadata": {
  "language_info": {
   "name": "python"
  }
 },
 "nbformat": 4,
 "nbformat_minor": 2
}

{
 "cells": [
  {
   "cell_type": "markdown",
   "metadata": {},
   "source": [
    "## 2.3 Dropout Layer & Overfitting\n",
    "- Intro to Dropout Layer \n",
    "- Intro to Training Overfitting \n",
    "- Experiment Handling Overfitting using Dropout Layer"
   ]
  }
 ],
 "metadata": {
  "language_info": {
   "name": "python"
  }
 },
 "nbformat": 4,
 "nbformat_minor": 2
}

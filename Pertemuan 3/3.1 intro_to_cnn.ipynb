{
 "cells": [
  {
   "cell_type": "markdown",
   "metadata": {},
   "source": [
    "## 3.1 Convolution Neural Network\n",
    "- Intro to Convolution Layer\n",
    "- Train Simple CNN using Pytorch on MNIST Dataset"
   ]
  },
  {
   "cell_type": "markdown",
   "metadata": {},
   "source": [
    "### 3.1.1 Into to Convolution Layer\n",
    "#### 3.1.1.1 Convolution Operation\n",
    "- Convolutional neural networks apply a series of <font color=\"orange\">learnable filters</font> to the input image. \n",
    "- A convolutional layer is defined by the <font color=\"orange\">filter (or kernel) size</font>, the <font color=\"orange\">number of filters</font> applied and the <font color=\"orange\">stride</font>.\n",
    "- The input and the output of a convolutional layer each have <font color=\"orange\">three dimensions</font> (width, height, number of channels).\n",
    "- The <font color=\"orange\">depth of the output</font> (number of channels) is adjusted by using <font color=\"orange\">more or fewer filters</font>.<br><br>\n",
    "<img src=\"resource/CNN.gif\" width=\"500px\"><img src=\"resource/CNN2.png\" width=\"400px\"><br>\n",
    "<i>Illustration: filtering an image with <font color=\"cyan\">two successive filters</font> made of <font color=\"cyan\">4x4x3=48 learnable weights</font> each.</i><br><br>\n",
    "<img src=\"resource/CNN3.png\" width=\"600px\"><br>\n",
    "<i>Illustration: a convolutional neural network transforms <font color=\"cyan\">\"cubes\"</font> of data into <font color=\"cyan\">other \"cubes\"</font> of data.</i>\n"
   ]
  },
  {
   "cell_type": "markdown",
   "metadata": {},
   "source": [
    "#### 3.1.1.2 Strided convolutions, max pooling\n",
    "- When <font color=\"orange\">stacking convolutional layers</font>, the width and height of the output can be adjusted by using a <font color=\"orange\">stride >1</font> or with a <font color=\"orange\">max-pooling</font> operation.<br><br>\n",
    "- <font color=\"cyan\">Strided convolution</font>: by performing the convolutions with a <font color=\"orange\">stride</font> of 2 or 3, we can also <font color=\"orange\">shrink</font> the resulting data cube in its <font color=\"orange\">horizontal dimensions</font>.<br><br> \n",
    "- <font color=\"cyan\">Max pooling</font>: a <font color=\"orange\">sliding window</font> applying the <font color=\"orange\">MAX</font> operation (typically on 2x2 patches, repeated every 2 pixels).<br>\n",
    "    <img src=\"resource/CNN4.gif\" width=\"500px\"><br>\n",
    "    <i>Illustration: <font color=\"orange\">sliding</font> the computing window by <font color=\"orange\">3 pixels</font> results in <font color=\"orange\">fewer</font> output values.</i>\n"
   ]
  }
 ],
 "metadata": {
  "language_info": {
   "name": "python"
  }
 },
 "nbformat": 4,
 "nbformat_minor": 2
}

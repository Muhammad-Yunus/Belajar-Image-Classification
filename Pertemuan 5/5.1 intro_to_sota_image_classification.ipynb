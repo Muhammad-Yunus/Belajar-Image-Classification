{
 "cells": [
  {
   "cell_type": "markdown",
   "metadata": {},
   "source": [
    "## 5.1 State of The Art Image Classification Model\n",
    "- Historical timeline of key <font color=\"orange\">deep learning models</font> and innovations in <font color=\"orange\">image classification</font>. \n",
    "- Highlighting major breakthroughs and architectural advancements: <br><br>\n",
    "<img src=\"resource/ic-sota.png\" width=\"95%\"><br><br>\n",
    "    - 🏆 : [ImageNet Large Scale Visual Recognition Challenge (ILSVRC)](https://www.image-net.org/challenges/LSVRC/) Winner.<br><br>\n",
    "- Historical <font color=\"orange\">innovations</font> in deep learning for image classification, including new types of <font color=\"orange\">layers</font>, <font color=\"orange\">techniques</font>, and other key <font color=\"orange\">advancements</font>.\n",
    "- Highlighting major breakthroughs and architectural advancements:<br><br>\n",
    "<img src=\"resource/innovation-sota.png\" width=\"95%\">"
   ]
  },
  {
   "cell_type": "markdown",
   "metadata": {},
   "source": [
    "- Image classification on [ImageNet](https://www.image-net.org/), benchmark on [paperwithcode.com](https://paperswithcode.com/sota/image-classification-on-imagenet),\n",
    "<img src=\"resource/model-sota.png\" width=\"95%\">"
   ]
  }
 ],
 "metadata": {
  "language_info": {
   "name": "python"
  }
 },
 "nbformat": 4,
 "nbformat_minor": 2
}
